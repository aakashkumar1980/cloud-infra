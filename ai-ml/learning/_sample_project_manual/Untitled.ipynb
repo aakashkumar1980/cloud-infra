{
 "cells": [
  {
   "cell_type": "code",
   "id": "b527e1c2-2292-4eab-bd51-5537681e1736",
   "metadata": {
    "ExecuteTime": {
     "end_time": "2024-04-10T01:46:02.318418Z",
     "start_time": "2024-04-10T01:46:02.312974Z"
    }
   },
   "source": "print(\"hello simran\")",
   "outputs": [
    {
     "name": "stdout",
     "output_type": "stream",
     "text": [
      "hello simran\n"
     ]
    }
   ],
   "execution_count": 1
  },
  {
   "cell_type": "code",
   "id": "cb5cdcfb-22fe-44f3-9016-1bc5a901f471",
   "metadata": {
    "ExecuteTime": {
     "end_time": "2024-04-10T02:45:24.844450Z",
     "start_time": "2024-04-10T02:45:21.717864Z"
    }
   },
   "source": [
    "import pandas as pd\n",
    "import numpy as np\n",
    "import matplotlib.pyplot as plt\n",
    "import sklearn"
   ],
   "outputs": [],
   "execution_count": 1
  },
  {
   "cell_type": "code",
   "id": "cbe4a51e-74ad-41a8-b065-9d8f0aad14b2",
   "metadata": {
    "ExecuteTime": {
     "end_time": "2024-04-10T01:00:47.043825Z",
     "start_time": "2024-04-10T01:00:47.040514Z"
    }
   },
   "source": [],
   "outputs": [],
   "execution_count": null
  },
  {
   "metadata": {
    "ExecuteTime": {
     "end_time": "2024-04-10T02:42:01.714164Z",
     "start_time": "2024-04-10T02:42:01.702424Z"
    }
   },
   "cell_type": "code",
   "source": "",
   "id": "1e46e8695dbcc40f",
   "outputs": [],
   "execution_count": 1
  },
  {
   "metadata": {},
   "cell_type": "code",
   "outputs": [],
   "execution_count": null,
   "source": "",
   "id": "2c88702e112a737d"
  }
 ],
 "metadata": {
  "kernelspec": {
   "display_name": "Python 3 (ipykernel)",
   "language": "python",
   "name": "python3"
  },
  "language_info": {
   "codemirror_mode": {
    "name": "ipython",
    "version": 3
   },
   "file_extension": ".py",
   "mimetype": "text/x-python",
   "name": "python",
   "nbconvert_exporter": "python",
   "pygments_lexer": "ipython3",
   "version": "3.12.2"
  }
 },
 "nbformat": 4,
 "nbformat_minor": 5
}
